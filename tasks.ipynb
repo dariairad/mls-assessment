{
 "cells": [
  {
   "cell_type": "markdown",
   "metadata": {},
   "source": [
    "# Machine Learning and Statistics: Tasks\n",
    "\n",
    "Author: Daria Sep\n",
    "\n",
    "***"
   ]
  },
  {
   "cell_type": "markdown",
   "metadata": {},
   "source": [
    "## Task 1"
   ]
  },
  {
   "cell_type": "markdown",
   "metadata": {},
   "source": [
    "### Description\n",
    "\n",
    "***\n",
    "\n",
    "Square roots are difficult to calculate. In Python, you typically use the power operator (a double asterisk) or a package such\n",
    "as `math`. In this task, you should write a function `sqrt(x)` to approximate the square root of a floating point number `x` without\n",
    "using the power operator or a package.\n",
    "\n",
    "Rather, you should use the Newton’s method. Start with an initial guess for the square root called $z_0$. You then repeatedly\n",
    "improve it using the following formula, until the difference between some previous guess $z_i$ and the next $z_{i+1}$ is less than some threshold, say 0.01\n",
    "\n",
    "$$ z_{i+1} = z_i - \\frac{z_i*z_i - x}{2z_i} $$"
   ]
  },
  {
   "cell_type": "markdown",
   "metadata": {},
   "source": [
    "### Solution\n",
    "\n",
    "***"
   ]
  },
  {
   "cell_type": "code",
   "execution_count": 1,
   "metadata": {},
   "outputs": [],
   "source": [
    "def sqrt(x):\n",
    "    # Initial guess for the square root\n",
    "    z = x / 2.0\n",
    "    # Defining the threshold for convergence\n",
    "    threshold = 0.01\n",
    "    \n",
    "    while True:\n",
    "        # Calculating the next approximation using Newton's method formula\n",
    "        z_next = z - (z * z - x) / (2 * z)\n",
    "        \n",
    "        # Checking if the difference between the current and next approximation is less than the threshold\n",
    "        if abs(z_next - z) < threshold:\n",
    "            break\n",
    "        \n",
    "        # Updating the current approximation\n",
    "        z = z_next\n",
    "    \n",
    "    return z"
   ]
  },
  {
   "cell_type": "markdown",
   "metadata": {},
   "source": [
    "### Tests\n",
    "\n",
    "***"
   ]
  },
  {
   "cell_type": "code",
   "execution_count": 2,
   "metadata": {},
   "outputs": [
    {
     "name": "stdout",
     "output_type": "stream",
     "text": [
      "The square root of 101.0 is approximately 10.049925395190327, rounded to 2 decimal points is 10.05\n"
     ]
    }
   ],
   "source": [
    "# Test the function on 101\n",
    "x = 101.0\n",
    "result = sqrt(x)\n",
    "print(f\"The square root of {x} is approximately {result}, rounded to 2 decimal points is {result:.2f}\")"
   ]
  },
  {
   "cell_type": "code",
   "execution_count": 3,
   "metadata": {},
   "outputs": [
    {
     "name": "stdout",
     "output_type": "stream",
     "text": [
      "The square root of 13 is approximately 3.6058779145461, rounded to 2 decimal points is 3.61\n"
     ]
    }
   ],
   "source": [
    "# Test the function on 13\n",
    "x = 13\n",
    "result = sqrt(x)\n",
    "print(f\"The square root of {x} is approximately {result}, rounded to 2 decimal points is {result:.2f}\")"
   ]
  },
  {
   "cell_type": "code",
   "execution_count": 4,
   "metadata": {},
   "outputs": [
    {
     "name": "stdout",
     "output_type": "stream",
     "text": [
      "The square root of 24 is approximately 4.908512720156556, rounded to 2 decimal points is 4.91\n"
     ]
    }
   ],
   "source": [
    "# Test the function on 24\n",
    "x = 24\n",
    "result = sqrt(x)\n",
    "print(f\"The square root of {x} is approximately {result}, rounded to 2 decimal points is {result:.2f}\")"
   ]
  },
  {
   "cell_type": "markdown",
   "metadata": {},
   "source": [
    "### Notes\n",
    "\n",
    "The provided code defines a Python function called `sqrt(x)` that calculates the square root of a given number `x` using the Newton's method for finding square roots. It iteratively refines an initial guess until it reaches to a value that is within the specified threshold of accuracy. It's a numerical approximation technique commonly used in mathematics and engineering.\n",
    "\n",
    "1. Function `sqrt(x)` that takes an argument `x` is defined.\n",
    "2. A variable `z` is defined to half of `x` as the initial guess for the square root.\n",
    "3. A `threshold` of `0.01` is set to determine when the approximation is considered sufficiently close to the actual square root.\n",
    "4. A `while` loop is entered until the desired level of accuracy is achieved.\n",
    "5. The next approximation is calculated using the Newton's method formula. The `z_next` is updated based on the current approximation `z` and the input value `x`.\n",
    "6. If the difference is below `threshold`, the loop breaks, otherwise, `z` is updated to the value of `z_next` for the next iteration of the loop.\n",
    "7. The final approximation is returned as the square root of `x`."
   ]
  },
  {
   "cell_type": "markdown",
   "metadata": {},
   "source": [
    "### References\n",
    "\n",
    "***\n",
    "\n",
    "Agrawal U. (2022). *Find root of a number using Newton’s method.* Available online at <https://www.geeksforgeeks.org/find-root-of-a-number-using-newtons-method/>\n",
    "\n",
    "Markdown Guide (n.d.). *Basic Syntax - The Markdown elements outlined in the original design document.* Available online at <https://www.markdownguide.org/basic-syntax/#overview>\n",
    "\n",
    "Strang G., Herman E. (2016). *Newton’s Method. Calculus Volume 1.* Available online at <https://math.libretexts.org/Bookshelves/Calculus/Calculus_(OpenStax)/04%3A_Applications_of_Derivatives/4.09%3A_Newtons_Method>\n",
    "\n",
    "***"
   ]
  },
  {
   "cell_type": "markdown",
   "metadata": {},
   "source": [
    "## Task 2"
   ]
  },
  {
   "cell_type": "markdown",
   "metadata": {},
   "source": [
    "### Description\n",
    "\n",
    "***\n",
    "\n",
    "Consider the below contingency table based on a survey asking respondents whether they prefer coffee or tea and whether they\n",
    "prefer plain or chocolate biscuits. Use `scipy.stats` to perform a chi-squared test to see whether there is any evidence of an association between drink preference and biscuit preference in this instance.\n",
    "\n",
    "| Drink/Biscuit| Chocolate | Plain |\n",
    "| :----: | :----: | :----: |\n",
    "| Coffee | 43 | 57 |\n",
    "| Tea | 56 | 45 |"
   ]
  },
  {
   "cell_type": "markdown",
   "metadata": {},
   "source": [
    "### Solution\n",
    "\n",
    "***"
   ]
  },
  {
   "cell_type": "markdown",
   "metadata": {},
   "source": [
    "#### Imports"
   ]
  },
  {
   "cell_type": "code",
   "execution_count": 5,
   "metadata": {},
   "outputs": [],
   "source": [
    "# Dataframes\n",
    "import pandas as pd\n",
    "\n",
    "# Shuffles\n",
    "import random\n",
    "\n",
    "# Statistics\n",
    "import scipy.stats as ss "
   ]
  },
  {
   "cell_type": "markdown",
   "metadata": {},
   "source": [
    "#### Data"
   ]
  },
  {
   "cell_type": "code",
   "execution_count": 6,
   "metadata": {},
   "outputs": [
    {
     "data": {
      "text/html": [
       "<div>\n",
       "<style scoped>\n",
       "    .dataframe tbody tr th:only-of-type {\n",
       "        vertical-align: middle;\n",
       "    }\n",
       "\n",
       "    .dataframe tbody tr th {\n",
       "        vertical-align: top;\n",
       "    }\n",
       "\n",
       "    .dataframe thead th {\n",
       "        text-align: right;\n",
       "    }\n",
       "</style>\n",
       "<table border=\"1\" class=\"dataframe\">\n",
       "  <thead>\n",
       "    <tr style=\"text-align: right;\">\n",
       "      <th></th>\n",
       "      <th>drink</th>\n",
       "      <th>biscuit</th>\n",
       "    </tr>\n",
       "  </thead>\n",
       "  <tbody>\n",
       "    <tr>\n",
       "      <th>0</th>\n",
       "      <td>Tea</td>\n",
       "      <td>Plain</td>\n",
       "    </tr>\n",
       "    <tr>\n",
       "      <th>1</th>\n",
       "      <td>Coffee</td>\n",
       "      <td>Plain</td>\n",
       "    </tr>\n",
       "    <tr>\n",
       "      <th>2</th>\n",
       "      <td>Coffee</td>\n",
       "      <td>Plain</td>\n",
       "    </tr>\n",
       "    <tr>\n",
       "      <th>3</th>\n",
       "      <td>Coffee</td>\n",
       "      <td>Plain</td>\n",
       "    </tr>\n",
       "    <tr>\n",
       "      <th>4</th>\n",
       "      <td>Tea</td>\n",
       "      <td>Chocolate</td>\n",
       "    </tr>\n",
       "    <tr>\n",
       "      <th>...</th>\n",
       "      <td>...</td>\n",
       "      <td>...</td>\n",
       "    </tr>\n",
       "    <tr>\n",
       "      <th>196</th>\n",
       "      <td>Coffee</td>\n",
       "      <td>Plain</td>\n",
       "    </tr>\n",
       "    <tr>\n",
       "      <th>197</th>\n",
       "      <td>Tea</td>\n",
       "      <td>Chocolate</td>\n",
       "    </tr>\n",
       "    <tr>\n",
       "      <th>198</th>\n",
       "      <td>Coffee</td>\n",
       "      <td>Plain</td>\n",
       "    </tr>\n",
       "    <tr>\n",
       "      <th>199</th>\n",
       "      <td>Tea</td>\n",
       "      <td>Plain</td>\n",
       "    </tr>\n",
       "    <tr>\n",
       "      <th>200</th>\n",
       "      <td>Tea</td>\n",
       "      <td>Chocolate</td>\n",
       "    </tr>\n",
       "  </tbody>\n",
       "</table>\n",
       "<p>201 rows × 2 columns</p>\n",
       "</div>"
      ],
      "text/plain": [
       "      drink    biscuit\n",
       "0       Tea      Plain\n",
       "1    Coffee      Plain\n",
       "2    Coffee      Plain\n",
       "3    Coffee      Plain\n",
       "4       Tea  Chocolate\n",
       "..      ...        ...\n",
       "196  Coffee      Plain\n",
       "197     Tea  Chocolate\n",
       "198  Coffee      Plain\n",
       "199     Tea      Plain\n",
       "200     Tea  Chocolate\n",
       "\n",
       "[201 rows x 2 columns]"
      ]
     },
     "execution_count": 6,
     "metadata": {},
     "output_type": "execute_result"
    }
   ],
   "source": [
    "coffee_chocolate = [['Coffee', 'Chocolate']] * 43\n",
    "tea_chocolate = [['Tea', 'Chocolate']] * 56\n",
    "coffee_plain = [['Coffee', 'Plain']] * 57\n",
    "tea_plain = [['Tea', 'Plain']] * 45\n",
    "\n",
    "# Merging four lists\n",
    "raw_data = coffee_chocolate + coffee_plain + tea_chocolate + tea_plain\n",
    "\n",
    "# Shuffling the data\n",
    "random.shuffle(raw_data)\n",
    "\n",
    "# Zipping the list\n",
    "drink, biscuit = list(zip(*raw_data))\n",
    "\n",
    "# Creating a dataframe\n",
    "df = pd.DataFrame({'drink': drink, 'biscuit': biscuit})\n",
    "\n",
    "df"
   ]
  },
  {
   "cell_type": "markdown",
   "metadata": {},
   "source": [
    "#### Contingency table"
   ]
  },
  {
   "cell_type": "code",
   "execution_count": 7,
   "metadata": {},
   "outputs": [
    {
     "data": {
      "text/plain": [
       "CrosstabResult(elements=(array(['Coffee', 'Tea'], dtype=object), array(['Chocolate', 'Plain'], dtype=object)), count=array([[43, 57],\n",
       "       [56, 45]]))"
      ]
     },
     "execution_count": 7,
     "metadata": {},
     "output_type": "execute_result"
    }
   ],
   "source": [
    "cross = ss.contingency.crosstab(df['drink'], df['biscuit'])\n",
    "cross"
   ]
  },
  {
   "cell_type": "code",
   "execution_count": 8,
   "metadata": {},
   "outputs": [
    {
     "data": {
      "text/plain": [
       "array([[43, 57],\n",
       "       [56, 45]])"
      ]
     },
     "execution_count": 8,
     "metadata": {},
     "output_type": "execute_result"
    }
   ],
   "source": [
    "cross.count"
   ]
  },
  {
   "cell_type": "markdown",
   "metadata": {},
   "source": [
    "#### Chi Square Test"
   ]
  },
  {
   "cell_type": "code",
   "execution_count": 9,
   "metadata": {},
   "outputs": [
    {
     "name": "stdout",
     "output_type": "stream",
     "text": [
      "Chi-Square Statistic: 3.113937364324669\n",
      "P-value: 0.07762509678333357\n",
      "Degrees of Freedom: 1\n",
      "Expected Frequencies Table:\n",
      "[[49.25373134 50.74626866]\n",
      " [49.74626866 51.25373134]]\n"
     ]
    }
   ],
   "source": [
    "chi2, p, dof, expected = ss.chi2_contingency(cross.count, correction=False)\n",
    "print(f\"Chi-Square Statistic: {chi2}\")\n",
    "print(f\"P-value: {p}\")\n",
    "print(f\"Degrees of Freedom: {dof}\")\n",
    "print(\"Expected Frequencies Table:\")\n",
    "print(expected)\n"
   ]
  },
  {
   "cell_type": "markdown",
   "metadata": {},
   "source": [
    "#### Interpretation"
   ]
  },
  {
   "cell_type": "code",
   "execution_count": 10,
   "metadata": {},
   "outputs": [
    {
     "name": "stdout",
     "output_type": "stream",
     "text": [
      "P-value is 0.07762509678333357\n",
      "Independent (H0 holds true) - There is no significant association between \"drink\" and \"biscuit\".\n"
     ]
    }
   ],
   "source": [
    "# H0 (null hypothesis) states that there is no relation between the variables. \n",
    "\n",
    "alpha = 0.05\n",
    "print(\"P-value is \" + str(p))\n",
    "\n",
    "\n",
    "if p <= alpha:\n",
    "    print('Dependent (reject H0) - There is a significant association between \"drink\" and \"biscuit\".')\n",
    "else:\n",
    "    print('Independent (H0 holds true) - There is no significant association between \"drink\" and \"biscuit\".')"
   ]
  },
  {
   "cell_type": "markdown",
   "metadata": {},
   "source": [
    "### Notes\n",
    "\n",
    "***\n",
    "\n",
    "1. Four lists (`coffee_chocolate`, `tea_chocolate`, `coffee_plain`, and `tea_plain`) are created, each containing pairs of \"drink\" and \"biscuit\" values, indicating frequencies.\n",
    "2. These four lists are merged into a single list called `raw_data`.\n",
    "3. The order of elements in the `raw_data` list is shuffled using `random.shuffle(raw_data)`, effectively randomizing the dataset.\n",
    "4. The `zip(*raw_data)` operation splits the pairs of \"drink\" and \"biscuit\" into two separate lists.\n",
    "5. A pandas DataFrame `df` is created using these two lists, where \"drink\" and \"biscuit\" become columns in the DataFrame.\n",
    "6. A contingency table `cross` is created using `ss.contingency.crosstab()` to count the occurrences of different combinations of \"drink\" and \"biscuit\" in the DataFrame.\n",
    "7. Chi-Square test is performed on the contingency table and the test statistics, p-value, degrees of freedom, and expected frequencies are printed.\n",
    "8. The significance level (`alpha`) is set to 0.05. \n",
    "9. The `p-value` is compared with `alpha` to determine whether there's a significant association between \"drink\" and \"biscuit\".\n",
    "10. The interpretation of the Chi-Square test results is printed, indicating the independence between \"drink\" and \"biscuit.\""
   ]
  },
  {
   "cell_type": "markdown",
   "metadata": {},
   "source": [
    "### References\n",
    "\n",
    "***\n",
    "Brownlee J. (2019). *A Gentle Introduction to the Chi-Squared Test for Machine Learning.* Available online at <https://machinelearningmastery.com/chi-squared-test-for-machine-learning/>\n",
    "\n",
    "GeeksForGeeks (n.d.). *Python – Pearson’s Chi-Square Test.* Available online at <https://www.geeksforgeeks.org/python-pearsons-chi-square-test/>\n",
    "\n",
    "Markdown Guide (n.d.). *Extended Syntax - Advanced features that build on the basic Markdown syntax.* Available online at <https://www.markdownguide.org/extended-syntax/#markdown-processors>\n",
    "\n",
    "McLoughlin I. (2023). *Topic 2: Chi-Square Tests* Online at: <https://vlegalwaymayo.atu.ie/course/view.php?id=8770#coursecontentcollapse3>\n",
    "\n",
    "Mulani S. (2021). *Chi-square test in Python — All you need to know!!* Available online at <https://www.askpython.com/python/examples/chi-square-test>\n",
    "\n",
    "***"
   ]
  },
  {
   "cell_type": "markdown",
   "metadata": {},
   "source": [
    "## Task 3"
   ]
  },
  {
   "cell_type": "markdown",
   "metadata": {},
   "source": [
    "### Description\n",
    "\n",
    "***\n",
    "\n",
    "Perform a t-test on the famous penguins data set to investigate whether there is evidence of a significant difference in the body mass of male and female gentoo penguins."
   ]
  },
  {
   "cell_type": "markdown",
   "metadata": {},
   "source": [
    "### Solution\n",
    "\n",
    "***"
   ]
  },
  {
   "cell_type": "markdown",
   "metadata": {},
   "source": [
    "#### Imports"
   ]
  },
  {
   "cell_type": "code",
   "execution_count": 29,
   "metadata": {},
   "outputs": [],
   "source": [
    "# Data frames\n",
    "import pandas as pd\n",
    "\n",
    "# Statistics\n",
    "import scipy.stats as ss\n",
    "\n",
    "# Plots\n",
    "import matplotlib.pyplot as plt"
   ]
  },
  {
   "cell_type": "markdown",
   "metadata": {},
   "source": [
    "#### Data"
   ]
  },
  {
   "cell_type": "code",
   "execution_count": 30,
   "metadata": {},
   "outputs": [
    {
     "data": {
      "text/html": [
       "<div>\n",
       "<style scoped>\n",
       "    .dataframe tbody tr th:only-of-type {\n",
       "        vertical-align: middle;\n",
       "    }\n",
       "\n",
       "    .dataframe tbody tr th {\n",
       "        vertical-align: top;\n",
       "    }\n",
       "\n",
       "    .dataframe thead th {\n",
       "        text-align: right;\n",
       "    }\n",
       "</style>\n",
       "<table border=\"1\" class=\"dataframe\">\n",
       "  <thead>\n",
       "    <tr style=\"text-align: right;\">\n",
       "      <th></th>\n",
       "      <th>species</th>\n",
       "      <th>island</th>\n",
       "      <th>bill_length_mm</th>\n",
       "      <th>bill_depth_mm</th>\n",
       "      <th>flipper_length_mm</th>\n",
       "      <th>body_mass_g</th>\n",
       "      <th>sex</th>\n",
       "    </tr>\n",
       "  </thead>\n",
       "  <tbody>\n",
       "    <tr>\n",
       "      <th>0</th>\n",
       "      <td>Adelie</td>\n",
       "      <td>Torgersen</td>\n",
       "      <td>39.1</td>\n",
       "      <td>18.7</td>\n",
       "      <td>181.0</td>\n",
       "      <td>3750.0</td>\n",
       "      <td>MALE</td>\n",
       "    </tr>\n",
       "    <tr>\n",
       "      <th>1</th>\n",
       "      <td>Adelie</td>\n",
       "      <td>Torgersen</td>\n",
       "      <td>39.5</td>\n",
       "      <td>17.4</td>\n",
       "      <td>186.0</td>\n",
       "      <td>3800.0</td>\n",
       "      <td>FEMALE</td>\n",
       "    </tr>\n",
       "    <tr>\n",
       "      <th>2</th>\n",
       "      <td>Adelie</td>\n",
       "      <td>Torgersen</td>\n",
       "      <td>40.3</td>\n",
       "      <td>18.0</td>\n",
       "      <td>195.0</td>\n",
       "      <td>3250.0</td>\n",
       "      <td>FEMALE</td>\n",
       "    </tr>\n",
       "    <tr>\n",
       "      <th>3</th>\n",
       "      <td>Adelie</td>\n",
       "      <td>Torgersen</td>\n",
       "      <td>NaN</td>\n",
       "      <td>NaN</td>\n",
       "      <td>NaN</td>\n",
       "      <td>NaN</td>\n",
       "      <td>NaN</td>\n",
       "    </tr>\n",
       "    <tr>\n",
       "      <th>4</th>\n",
       "      <td>Adelie</td>\n",
       "      <td>Torgersen</td>\n",
       "      <td>36.7</td>\n",
       "      <td>19.3</td>\n",
       "      <td>193.0</td>\n",
       "      <td>3450.0</td>\n",
       "      <td>FEMALE</td>\n",
       "    </tr>\n",
       "    <tr>\n",
       "      <th>...</th>\n",
       "      <td>...</td>\n",
       "      <td>...</td>\n",
       "      <td>...</td>\n",
       "      <td>...</td>\n",
       "      <td>...</td>\n",
       "      <td>...</td>\n",
       "      <td>...</td>\n",
       "    </tr>\n",
       "    <tr>\n",
       "      <th>339</th>\n",
       "      <td>Gentoo</td>\n",
       "      <td>Biscoe</td>\n",
       "      <td>NaN</td>\n",
       "      <td>NaN</td>\n",
       "      <td>NaN</td>\n",
       "      <td>NaN</td>\n",
       "      <td>NaN</td>\n",
       "    </tr>\n",
       "    <tr>\n",
       "      <th>340</th>\n",
       "      <td>Gentoo</td>\n",
       "      <td>Biscoe</td>\n",
       "      <td>46.8</td>\n",
       "      <td>14.3</td>\n",
       "      <td>215.0</td>\n",
       "      <td>4850.0</td>\n",
       "      <td>FEMALE</td>\n",
       "    </tr>\n",
       "    <tr>\n",
       "      <th>341</th>\n",
       "      <td>Gentoo</td>\n",
       "      <td>Biscoe</td>\n",
       "      <td>50.4</td>\n",
       "      <td>15.7</td>\n",
       "      <td>222.0</td>\n",
       "      <td>5750.0</td>\n",
       "      <td>MALE</td>\n",
       "    </tr>\n",
       "    <tr>\n",
       "      <th>342</th>\n",
       "      <td>Gentoo</td>\n",
       "      <td>Biscoe</td>\n",
       "      <td>45.2</td>\n",
       "      <td>14.8</td>\n",
       "      <td>212.0</td>\n",
       "      <td>5200.0</td>\n",
       "      <td>FEMALE</td>\n",
       "    </tr>\n",
       "    <tr>\n",
       "      <th>343</th>\n",
       "      <td>Gentoo</td>\n",
       "      <td>Biscoe</td>\n",
       "      <td>49.9</td>\n",
       "      <td>16.1</td>\n",
       "      <td>213.0</td>\n",
       "      <td>5400.0</td>\n",
       "      <td>MALE</td>\n",
       "    </tr>\n",
       "  </tbody>\n",
       "</table>\n",
       "<p>344 rows × 7 columns</p>\n",
       "</div>"
      ],
      "text/plain": [
       "    species     island  bill_length_mm  bill_depth_mm  flipper_length_mm  \\\n",
       "0    Adelie  Torgersen            39.1           18.7              181.0   \n",
       "1    Adelie  Torgersen            39.5           17.4              186.0   \n",
       "2    Adelie  Torgersen            40.3           18.0              195.0   \n",
       "3    Adelie  Torgersen             NaN            NaN                NaN   \n",
       "4    Adelie  Torgersen            36.7           19.3              193.0   \n",
       "..      ...        ...             ...            ...                ...   \n",
       "339  Gentoo     Biscoe             NaN            NaN                NaN   \n",
       "340  Gentoo     Biscoe            46.8           14.3              215.0   \n",
       "341  Gentoo     Biscoe            50.4           15.7              222.0   \n",
       "342  Gentoo     Biscoe            45.2           14.8              212.0   \n",
       "343  Gentoo     Biscoe            49.9           16.1              213.0   \n",
       "\n",
       "     body_mass_g     sex  \n",
       "0         3750.0    MALE  \n",
       "1         3800.0  FEMALE  \n",
       "2         3250.0  FEMALE  \n",
       "3            NaN     NaN  \n",
       "4         3450.0  FEMALE  \n",
       "..           ...     ...  \n",
       "339          NaN     NaN  \n",
       "340       4850.0  FEMALE  \n",
       "341       5750.0    MALE  \n",
       "342       5200.0  FEMALE  \n",
       "343       5400.0    MALE  \n",
       "\n",
       "[344 rows x 7 columns]"
      ]
     },
     "execution_count": 30,
     "metadata": {},
     "output_type": "execute_result"
    }
   ],
   "source": [
    "# Loading the penguins dataset into a DataFrame\n",
    "penguins_df = pd.read_csv(\"csv/penguins.csv\")\n",
    "\n",
    "# Showing data\n",
    "penguins_df"
   ]
  },
  {
   "cell_type": "code",
   "execution_count": 31,
   "metadata": {},
   "outputs": [
    {
     "data": {
      "text/plain": [
       "(221    5700.0\n",
       " 223    5700.0\n",
       " 224    5400.0\n",
       " 227    5200.0\n",
       " 229    5150.0\n",
       " Name: body_mass_g, dtype: float64,\n",
       " 220    4500.0\n",
       " 222    4450.0\n",
       " 225    4550.0\n",
       " 226    4800.0\n",
       " 228    4400.0\n",
       " Name: body_mass_g, dtype: float64)"
      ]
     },
     "execution_count": 31,
     "metadata": {},
     "output_type": "execute_result"
    }
   ],
   "source": [
    "# Filtering the dataset for Gentoo penguins only\n",
    "gentoo_df = penguins_df[penguins_df[\"species\"] == \"Gentoo\"]\n",
    "\n",
    "# Splitting the data into male and female groups\n",
    "male_mass = gentoo_df[gentoo_df[\"sex\"] == \"MALE\"][\"body_mass_g\"]\n",
    "female_mass = gentoo_df[gentoo_df[\"sex\"] == \"FEMALE\"][\"body_mass_g\"]\n",
    "\n",
    "male_mass.head(), female_mass.head()"
   ]
  },
  {
   "cell_type": "markdown",
   "metadata": {},
   "source": [
    "#### Histogram"
   ]
  },
  {
   "cell_type": "code",
   "execution_count": 33,
   "metadata": {},
   "outputs": [
    {
     "data": {
      "image/png": "[encoded data removed]",
      "text/plain": [
       "<Figure size 640x480 with 1 Axes>"
      ]
     },
     "metadata": {},
     "output_type": "display_data"
    }
   ],
   "source": [
    "plt.hist(male_mass, bins=15, alpha=0.7, color=\"blue\", label=\"Male\")\n",
    "plt.hist(female_mass, bins=15, alpha=0.7, color=\"red\", label=\"Female\")\n",
    "\n",
    "plt.xlabel(\"Body Mass (g)\")\n",
    "plt.ylabel(\"Frequency\")\n",
    "plt.title(\"Histograms of Body Mass for Male and Female Gentoo Penguins\")\n",
    "plt.legend()\n",
    "plt.show()"
   ]
  },
  {
   "cell_type": "markdown",
   "metadata": {},
   "source": [
    "#### T-test"
   ]
  },
  {
   "cell_type": "code",
   "execution_count": 21,
   "metadata": {},
   "outputs": [
    {
     "name": "stdout",
     "output_type": "stream",
     "text": [
      "There is significant evidence of a difference in body mass between male and female Gentoo penguins.\n",
      "t-statistic: 14.721676481405709\n",
      "p-value: 2.133687602018886e-28\n"
     ]
    }
   ],
   "source": [
    "# Performing a two-sample t-test\n",
    "t_statistic, p_value = ss.ttest_ind(male_mass, female_mass)\n",
    "\n",
    "# Defining the significance level \n",
    "alpha = 0.05\n",
    "\n",
    "# Checking if the p-value is less than alpha to determine significance\n",
    "if p_value < alpha:\n",
    "    print(\"There is significant evidence of a difference in body mass between male and female Gentoo penguins.\")\n",
    "else:\n",
    "    print(\"There is no significant evidence of a difference in body mass between male and female Gentoo penguins.\")\n",
    "\n",
    "print(f\"t-statistic: {t_statistic}\")\n",
    "print(f\"p-value: {p_value}\")\n"
   ]
  },
  {
   "cell_type": "markdown",
   "metadata": {},
   "source": [
    "### Notes\n",
    "\n",
    "***\n",
    "\n",
    "The code above Performs a t-test on the famous penguins dataset to investigate whether there is evidence of a significant difference in the body mass of male and female Gentoo penguins.\n",
    "\n",
    "1. The penguins dataset is loaded from a CSV file named \"penguins.csv\" into a pandas DataFrame called `penguins_df`.\n",
    "2. The dataset is filtered to include only Gentoo penguins. A new DataFrame called `gentoo_df` is created.\n",
    "3. The data is split into male and female groups based on the \"sex\" column.\n",
    "4. Histogram is generated to visualise the data. \n",
    "5. A two-sample t-test is performed using `ttest_ind` function from the `scipy.stats` library to compare the body mass of male and female Gentoo penguins. The function calculates the t-statistic and the p-value.\n",
    "6. A significance level (alpha) is set to 0.05 and the p-value is checked against alpha to determine if there is a significant difference between male and female penguin body masses."
   ]
  },
  {
   "cell_type": "markdown",
   "metadata": {},
   "source": [
    "### References\n",
    "\n",
    "***\n",
    "Matplotlib (n.d). *matplotlib.pyplot.hist* Available online at: <https://matplotlib.org/stable/api/_as_gen/matplotlib.pyplot.hist.html>\n",
    "\n",
    "McLoughlin I. (2023). *Topic 3: t-Tests* Online at: <https://vlegalwaymayo.atu.ie/course/view.php?id=8770#coursecontentcollapse4>\n",
    "\n",
    "Mwaskom (2020). *seaborn-data: Data repository for seaborn examples.* Available online at <https://github.com/mwaskom/seaborn-data/blob/master/penguins.csv>\n",
    "\n",
    "SciPy Manual (n.d). *scipy.stats.ttest_ind* Available online at <https://docs.scipy.org/doc/scipy/reference/generated/scipy.stats.ttest_ind.html>\n",
    "\n",
    "Suleiman A. (2022). *How To Perform The 5 Most Popular Statistical Analysis With Python.*  Available online at <https://python.plainenglish.io/how-to-perform-the-5-most-popular-statistical-analysis-with-python-ce9012c3be30>\n",
    "\n",
    "***"
   ]
  },
  {
   "cell_type": "markdown",
   "metadata": {},
   "source": [
    "## Task 4"
   ]
  },
  {
   "cell_type": "markdown",
   "metadata": {},
   "source": [
    "### Description\n",
    "\n",
    "***\n",
    "\n",
    "Using the famous iris data set, suggest whether the setosa class is easily separable from the other two classes. Provide evidence\n",
    "for your answer."
   ]
  },
  {
   "cell_type": "markdown",
   "metadata": {},
   "source": [
    "### Solution\n",
    "\n",
    "***"
   ]
  },
  {
   "cell_type": "code",
   "execution_count": null,
   "metadata": {},
   "outputs": [],
   "source": []
  },
  {
   "cell_type": "markdown",
   "metadata": {},
   "source": [
    "### Notes\n",
    "\n",
    "***"
   ]
  },
  {
   "cell_type": "markdown",
   "metadata": {},
   "source": [
    "### References\n",
    "\n",
    "***"
   ]
  },
  {
   "cell_type": "markdown",
   "metadata": {},
   "source": [
    "## Task 5"
   ]
  },
  {
   "cell_type": "markdown",
   "metadata": {},
   "source": [
    "### Description\n",
    "\n",
    "***\n",
    "\n",
    "Perform Principal Component Analysis on the iris data set, reducing the number of dimensions to two. Explain the purpose\n",
    "of the analysis and your results."
   ]
  },
  {
   "cell_type": "markdown",
   "metadata": {},
   "source": [
    "### Solution\n",
    "\n",
    "***"
   ]
  },
  {
   "cell_type": "code",
   "execution_count": null,
   "metadata": {},
   "outputs": [],
   "source": []
  },
  {
   "cell_type": "markdown",
   "metadata": {},
   "source": [
    "### Notes\n",
    "\n",
    "***"
   ]
  },
  {
   "cell_type": "markdown",
   "metadata": {},
   "source": [
    "### References\n",
    "\n",
    "***"
   ]
  },
  {
   "cell_type": "markdown",
   "metadata": {},
   "source": [
    "***\n",
    "\n",
    "## End"
   ]
  }
 ],
 "metadata": {
  "kernelspec": {
   "display_name": "base",
   "language": "python",
   "name": "python3"
  },
  "language_info": {
   "codemirror_mode": {
    "name": "ipython",
    "version": 3
   },
   "file_extension": ".py",
   "mimetype": "text/x-python",
   "name": "python",
   "nbconvert_exporter": "python",
   "pygments_lexer": "ipython3",
   "version": "3.9.18"
  }
 },
 "nbformat": 4,
 "nbformat_minor": 2
}
