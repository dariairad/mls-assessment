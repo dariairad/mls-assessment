{
 "cells": [
  {
   "cell_type": "markdown",
   "metadata": {},
   "source": [
    "# Tasks: Machine Learning and Statistics\n",
    "\n",
    "Winter 2023/2024\n",
    "\n",
    "Author: Daria Sep\n",
    "\n",
    "***"
   ]
  },
  {
   "cell_type": "markdown",
   "metadata": {},
   "source": [
    "## Task 1"
   ]
  },
  {
   "cell_type": "markdown",
   "metadata": {},
   "source": [
    "### Description\n",
    "\n",
    "***\n",
    "\n",
    "Square roots are difficult to calculate. In Python, you typically use the power operator (a double asterisk) or a package such\n",
    "as `math`. In this task, you should write a function `sqrt(x)` to approximate the square root of a floating point number `x` without\n",
    "using the power operator or a package.\n",
    "\n",
    "Rather, you should use the Newton’s method. Start with an initial guess for the square root called $z_0$. You then repeatedly\n",
    "improve it using the following formula, until the difference between some previous guess $z_i$ and the next $z_{i+1}$ is less than some threshold, say 0.01\n",
    "\n",
    "$$ z_{i+1} = z_i - \\frac{z_i*z_i - x}{2z_i} $$"
   ]
  },
  {
   "cell_type": "markdown",
   "metadata": {},
   "source": [
    "### Solution\n",
    "\n",
    "***"
   ]
  },
  {
   "cell_type": "code",
   "execution_count": 1,
   "metadata": {},
   "outputs": [],
   "source": [
    "def sqrt(x):\n",
    "    # Initial guess for the square root\n",
    "    z = x / 2.0\n",
    "    # Defining the threshold for convergence\n",
    "    threshold = 0.01\n",
    "    \n",
    "    while True:\n",
    "        # Calculating the next approximation using Newton's method formula\n",
    "        z_next = z - (z * z - x) / (2 * z)\n",
    "        \n",
    "        # Checking if the difference between the current and next approximation is less than the threshold\n",
    "        if abs(z_next - z) < threshold:\n",
    "            break\n",
    "        \n",
    "        # Updating the current approximation\n",
    "        z = z_next\n",
    "    \n",
    "    return z"
   ]
  },
  {
   "cell_type": "markdown",
   "metadata": {},
   "source": [
    "### Tests\n",
    "\n",
    "***"
   ]
  },
  {
   "cell_type": "code",
   "execution_count": 2,
   "metadata": {},
   "outputs": [
    {
     "name": "stdout",
     "output_type": "stream",
     "text": [
      "The square root of 101.0 is approximately 10.049925395190327, rounded to 2 decimal points is 10.05\n"
     ]
    }
   ],
   "source": [
    "# Test the function on 101\n",
    "x = 101.0\n",
    "result = sqrt(x)\n",
    "print(f\"The square root of {x} is approximately {result}, rounded to 2 decimal points is {result:.2f}\")"
   ]
  },
  {
   "cell_type": "code",
   "execution_count": 3,
   "metadata": {},
   "outputs": [
    {
     "name": "stdout",
     "output_type": "stream",
     "text": [
      "The square root of 13 is approximately 3.6058779145461, rounded to 2 decimal points is 3.61\n"
     ]
    }
   ],
   "source": [
    "# Test the function on 13\n",
    "x = 13\n",
    "result = sqrt(x)\n",
    "print(f\"The square root of {x} is approximately {result}, rounded to 2 decimal points is {result:.2f}\")"
   ]
  },
  {
   "cell_type": "code",
   "execution_count": 4,
   "metadata": {},
   "outputs": [
    {
     "name": "stdout",
     "output_type": "stream",
     "text": [
      "The square root of 24 is approximately 4.908512720156556, rounded to 2 decimal points is 4.91\n"
     ]
    }
   ],
   "source": [
    "# Test the function on 24\n",
    "x = 24\n",
    "result = sqrt(x)\n",
    "print(f\"The square root of {x} is approximately {result}, rounded to 2 decimal points is {result:.2f}\")"
   ]
  },
  {
   "cell_type": "markdown",
   "metadata": {},
   "source": [
    "### Notes\n",
    "\n",
    "The provided code defines a Python function called `sqrt(x)` that calculates the square root of a given number `x` using the Newton's method for finding square roots. It iteratively refines an initial guess until it reaches to a value that is within the specified threshold of accuracy. It's a numerical approximation technique commonly used in mathematics and engineering.\n",
    "\n",
    "1. Function `sqrt(x)` that takes an argument `x` is defined.\n",
    "2. A variable `z` is defined to half of `x` as the initial guess for the square root.\n",
    "3. A `threshold` of `0.01` is set to determine when the approximation is considered sufficiently close to the actual square root.\n",
    "4. A `while` loop is entered until the desired level of accuracy is achieved.\n",
    "5. The next approximation is calculated using the Newton's method formula. The `z_next` is updated based on the current approximation `z` and the input value `x`.\n",
    "6. If the difference is below `threshold`, the loop breaks, otherwise, `z` is updated to the value of `z_next` for the next iteration of the loop.\n",
    "7. The final approximation is returned as the square root of `x`."
   ]
  },
  {
   "cell_type": "markdown",
   "metadata": {},
   "source": [
    "### References\n",
    "\n",
    "***\n",
    "\n",
    "Agrawal U. (2022). *Find root of a number using Newton’s method.* Available online at <https://www.geeksforgeeks.org/find-root-of-a-number-using-newtons-method/>\n",
    "\n",
    "Markdown Guide (n.d.). *Basic Syntax - The Markdown elements outlined in the original design document.* Available online at <https://www.markdownguide.org/basic-syntax/#overview>\n",
    "\n",
    "Strang G., Herman E. (2016). *Newton’s Method. Calculus Volume 1.* Available online at <https://math.libretexts.org/Bookshelves/Calculus/Calculus_(OpenStax)/04%3A_Applications_of_Derivatives/4.09%3A_Newtons_Method>\n",
    "\n",
    "***"
   ]
  },
  {
   "cell_type": "markdown",
   "metadata": {},
   "source": [
    "## Task 2"
   ]
  },
  {
   "cell_type": "markdown",
   "metadata": {},
   "source": [
    "### Description\n",
    "\n",
    "***\n",
    "\n",
    "Consider the below contingency table based on a survey asking respondents whether they prefer coffee or tea and whether they\n",
    "prefer plain or chocolate biscuits. Use `scipy.stats` to perform a chi-squared test to see whether there is any evidence of an association between drink preference and biscuit preference in this instance.\n",
    "\n",
    "| Drink/Biscuit| Chocolate | Plain |\n",
    "| :----: | :----: | :----: |\n",
    "| Coffee | 43 | 57 |\n",
    "| Tea | 56 | 45 |\n"
   ]
  },
  {
   "cell_type": "markdown",
   "metadata": {},
   "source": [
    "### Solution\n",
    "\n",
    "***"
   ]
  },
  {
   "cell_type": "markdown",
   "metadata": {},
   "source": [
    "#### Imports"
   ]
  },
  {
   "cell_type": "code",
   "execution_count": 5,
   "metadata": {},
   "outputs": [],
   "source": [
    "import pandas as pd\n",
    "import random\n",
    "import scipy.stats as ss "
   ]
  },
  {
   "cell_type": "markdown",
   "metadata": {},
   "source": [
    "#### Data"
   ]
  },
  {
   "cell_type": "code",
   "execution_count": 6,
   "metadata": {},
   "outputs": [
    {
     "data": {
      "text/html": [
       "<div>\n",
       "<style scoped>\n",
       "    .dataframe tbody tr th:only-of-type {\n",
       "        vertical-align: middle;\n",
       "    }\n",
       "\n",
       "    .dataframe tbody tr th {\n",
       "        vertical-align: top;\n",
       "    }\n",
       "\n",
       "    .dataframe thead th {\n",
       "        text-align: right;\n",
       "    }\n",
       "</style>\n",
       "<table border=\"1\" class=\"dataframe\">\n",
       "  <thead>\n",
       "    <tr style=\"text-align: right;\">\n",
       "      <th></th>\n",
       "      <th>drink</th>\n",
       "      <th>biscuit</th>\n",
       "    </tr>\n",
       "  </thead>\n",
       "  <tbody>\n",
       "    <tr>\n",
       "      <th>0</th>\n",
       "      <td>Tea</td>\n",
       "      <td>Chocolate</td>\n",
       "    </tr>\n",
       "    <tr>\n",
       "      <th>1</th>\n",
       "      <td>Tea</td>\n",
       "      <td>Chocolate</td>\n",
       "    </tr>\n",
       "    <tr>\n",
       "      <th>2</th>\n",
       "      <td>Coffee</td>\n",
       "      <td>Plain</td>\n",
       "    </tr>\n",
       "    <tr>\n",
       "      <th>3</th>\n",
       "      <td>Tea</td>\n",
       "      <td>Plain</td>\n",
       "    </tr>\n",
       "    <tr>\n",
       "      <th>4</th>\n",
       "      <td>Tea</td>\n",
       "      <td>Plain</td>\n",
       "    </tr>\n",
       "    <tr>\n",
       "      <th>...</th>\n",
       "      <td>...</td>\n",
       "      <td>...</td>\n",
       "    </tr>\n",
       "    <tr>\n",
       "      <th>196</th>\n",
       "      <td>Coffee</td>\n",
       "      <td>Plain</td>\n",
       "    </tr>\n",
       "    <tr>\n",
       "      <th>197</th>\n",
       "      <td>Tea</td>\n",
       "      <td>Plain</td>\n",
       "    </tr>\n",
       "    <tr>\n",
       "      <th>198</th>\n",
       "      <td>Coffee</td>\n",
       "      <td>Chocolate</td>\n",
       "    </tr>\n",
       "    <tr>\n",
       "      <th>199</th>\n",
       "      <td>Coffee</td>\n",
       "      <td>Plain</td>\n",
       "    </tr>\n",
       "    <tr>\n",
       "      <th>200</th>\n",
       "      <td>Tea</td>\n",
       "      <td>Chocolate</td>\n",
       "    </tr>\n",
       "  </tbody>\n",
       "</table>\n",
       "<p>201 rows × 2 columns</p>\n",
       "</div>"
      ],
      "text/plain": [
       "      drink    biscuit\n",
       "0       Tea  Chocolate\n",
       "1       Tea  Chocolate\n",
       "2    Coffee      Plain\n",
       "3       Tea      Plain\n",
       "4       Tea      Plain\n",
       "..      ...        ...\n",
       "196  Coffee      Plain\n",
       "197     Tea      Plain\n",
       "198  Coffee  Chocolate\n",
       "199  Coffee      Plain\n",
       "200     Tea  Chocolate\n",
       "\n",
       "[201 rows x 2 columns]"
      ]
     },
     "execution_count": 6,
     "metadata": {},
     "output_type": "execute_result"
    }
   ],
   "source": [
    "coffee_chocolate = [['Coffee', 'Chocolate']] * 43\n",
    "tea_chocolate = [['Tea', 'Chocolate']] * 56\n",
    "coffee_plain = [['Coffee', 'Plain']] * 57\n",
    "tea_plain = [['Tea', 'Plain']] * 45\n",
    "\n",
    "# Merging four lists\n",
    "raw_data = coffee_chocolate + coffee_plain + tea_chocolate + tea_plain\n",
    "\n",
    "# Shuffling the data\n",
    "random.shuffle(raw_data)\n",
    "\n",
    "# Zipping the list\n",
    "drink, biscuit = list(zip(*raw_data))\n",
    "\n",
    "# Creating a dataframe\n",
    "df = pd.DataFrame({'drink': drink, 'biscuit': biscuit})\n",
    "\n",
    "df"
   ]
  },
  {
   "cell_type": "markdown",
   "metadata": {},
   "source": [
    "#### Contingency table"
   ]
  },
  {
   "cell_type": "code",
   "execution_count": 13,
   "metadata": {},
   "outputs": [
    {
     "data": {
      "text/plain": [
       "CrosstabResult(elements=(array(['Coffee', 'Tea'], dtype=object), array(['Chocolate', 'Plain'], dtype=object)), count=array([[43, 57],\n",
       "       [56, 45]]))"
      ]
     },
     "execution_count": 13,
     "metadata": {},
     "output_type": "execute_result"
    }
   ],
   "source": [
    "cross = ss.contingency.crosstab(df['drink'], df['biscuit'])\n",
    "cross"
   ]
  },
  {
   "cell_type": "code",
   "execution_count": 14,
   "metadata": {},
   "outputs": [
    {
     "data": {
      "text/plain": [
       "array([[43, 57],\n",
       "       [56, 45]])"
      ]
     },
     "execution_count": 14,
     "metadata": {},
     "output_type": "execute_result"
    }
   ],
   "source": [
    "cross.count"
   ]
  },
  {
   "cell_type": "markdown",
   "metadata": {},
   "source": [
    "#### Chi Square Test"
   ]
  },
  {
   "cell_type": "code",
   "execution_count": 9,
   "metadata": {},
   "outputs": [
    {
     "name": "stdout",
     "output_type": "stream",
     "text": [
      "Chi-Square Statistic: 3.113937364324669\n",
      "P-value: 0.07762509678333357\n",
      "Degrees of Freedom: 1\n",
      "Expected Frequencies Table:\n",
      "[[49.25373134 50.74626866]\n",
      " [49.74626866 51.25373134]]\n"
     ]
    }
   ],
   "source": [
    "chi2, p, dof, expected = ss.chi2_contingency(cross.count, correction=False)\n",
    "print(f\"Chi-Square Statistic: {chi2}\")\n",
    "print(f\"P-value: {p}\")\n",
    "print(f\"Degrees of Freedom: {dof}\")\n",
    "print(\"Expected Frequencies Table:\")\n",
    "print(expected)\n"
   ]
  },
  {
   "cell_type": "markdown",
   "metadata": {},
   "source": [
    "#### Interpretation"
   ]
  },
  {
   "cell_type": "code",
   "execution_count": 10,
   "metadata": {},
   "outputs": [
    {
     "name": "stdout",
     "output_type": "stream",
     "text": [
      "P-value is 0.07762509678333357\n",
      "Independent (H0 holds true) - There is no significant association between \"drink\" and \"biscuit\".\n"
     ]
    }
   ],
   "source": [
    "# H0 (null hypothesis) states that there is no relation between the variables. \n",
    "\n",
    "alpha = 0.05\n",
    "print(\"P-value is \" + str(p))\n",
    "\n",
    "\n",
    "if p <= alpha:\n",
    "    print('Dependent (reject H0) - There is a significant association between \"drink\" and \"biscuit\".')\n",
    "else:\n",
    "    print('Independent (H0 holds true) - There is no significant association between \"drink\" and \"biscuit\".')"
   ]
  },
  {
   "cell_type": "markdown",
   "metadata": {},
   "source": [
    "### Notes\n",
    "\n",
    "***\n",
    "\n",
    "1. Four lists (`coffee_chocolate`, `tea_chocolate`, `coffee_plain`, and `tea_plain`) are created, each containing pairs of \"drink\" and \"biscuit\" values, indicating frequencies.\n",
    "2. These four lists are merged into a single list called `raw_data`.\n",
    "3. The order of elements in the `raw_data` list is shuffled using `random.shuffle(raw_data)`, effectively randomizing the dataset.\n",
    "4. The `zip(*raw_data)` operation splits the pairs of \"drink\" and \"biscuit\" into two separate lists.\n",
    "5. A pandas DataFrame `df` is created using these two lists, where \"drink\" and \"biscuit\" become columns in the DataFrame.\n",
    "6. A contingency table `cross` is created using `ss.contingency.crosstab()` to count the occurrences of different combinations of \"drink\" and \"biscuit\" in the DataFrame.\n",
    "7. Chi-Square test is performed on the contingency table and the test statistics, p-value, degrees of freedom, and expected frequencies are printed.\n",
    "8. The significance level (`alpha`) is set to 0.05. \n",
    "9. The `p-value` is compared with `alpha` to determine whether there's a significant association between \"drink\" and \"biscuit\".\n",
    "10. The interpretation of the Chi-Square test results is printed, indicating the independence between \"drink\" and \"biscuit.\""
   ]
  },
  {
   "cell_type": "markdown",
   "metadata": {},
   "source": [
    "### References\n",
    "\n",
    "***\n",
    "Brownlee J. (2019). *A Gentle Introduction to the Chi-Squared Test for Machine Learning.* Available online at <https://machinelearningmastery.com/chi-squared-test-for-machine-learning/>\n",
    "\n",
    "GeeksForGeeks (n.d.). *Python – Pearson’s Chi-Square Test.* Available online at <https://www.geeksforgeeks.org/python-pearsons-chi-square-test/>\n",
    "\n",
    "Markdown Guide (n.d.). *Extended Syntax - Advanced features that build on the basic Markdown syntax.* Available online at <https://www.markdownguide.org/extended-syntax/#markdown-processors>\n",
    "\n",
    "Mulani S. (2021). *Chi-square test in Python — All you need to know!!* Available online at <https://www.askpython.com/python/examples/chi-square-test>\n",
    "\n",
    "***"
   ]
  },
  {
   "cell_type": "markdown",
   "metadata": {},
   "source": [
    "***\n",
    "\n",
    "## End"
   ]
  }
 ],
 "metadata": {
  "kernelspec": {
   "display_name": "base",
   "language": "python",
   "name": "python3"
  },
  "language_info": {
   "codemirror_mode": {
    "name": "ipython",
    "version": 3
   },
   "file_extension": ".py",
   "mimetype": "text/x-python",
   "name": "python",
   "nbconvert_exporter": "python",
   "pygments_lexer": "ipython3",
   "version": "3.9.18"
  }
 },
 "nbformat": 4,
 "nbformat_minor": 2
}
