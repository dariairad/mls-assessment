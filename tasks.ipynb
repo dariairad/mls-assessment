{
 "cells": [
  {
   "cell_type": "markdown",
   "metadata": {},
   "source": [
    "## Tasks: Machine Learning and Statistics\n",
    "\n",
    "Winter 2023/2024\n",
    "\n",
    "Author: Daria Sep\n",
    "\n",
    "***"
   ]
  },
  {
   "cell_type": "markdown",
   "metadata": {},
   "source": [
    "### Task 1"
   ]
  },
  {
   "cell_type": "markdown",
   "metadata": {},
   "source": [
    "Square roots are difficult to calculate. In Python, you typically use the power operator (a double asterisk) or a package such\n",
    "as `math`. In this task, you should write a function `sqrt(x)$` to approximate the square root of a floating point number `x` without\n",
    "using the power operator or a package.\n",
    "\n",
    "Rather, you should use the Newton’s method. Start with an initial guess for the square root called $z_0$. You then repeatedly\n",
    "improve it using the following formula, until the difference between some previous guess $z_i$ and the next $z_{i+1}$ is less than some threshold, say 0.01\n",
    "\n",
    "$$ z_{i+1} = z_i - \\frac{z_i*z_i - x}{2z_i} $$"
   ]
  },
  {
   "cell_type": "code",
   "execution_count": 2,
   "metadata": {},
   "outputs": [],
   "source": [
    "def sqrt(x):\n",
    "    # Initial guess for the square root\n",
    "    z = x / 2.0\n",
    "    # Defining the threshold for convergence\n",
    "    threshold = 0.01\n",
    "    \n",
    "    while True:\n",
    "        # Calculating the next approximation using Newton's method formula\n",
    "        z_next = z - (z * z - x) / (2 * z)\n",
    "        \n",
    "        # Checking if the difference between the current and next approximation is less than the threshold\n",
    "        if abs(z_next - z) < threshold:\n",
    "            break\n",
    "        \n",
    "        # Update the current approximation\n",
    "        z = z_next\n",
    "    \n",
    "    return z"
   ]
  },
  {
   "cell_type": "markdown",
   "metadata": {},
   "source": [
    "### Tests"
   ]
  },
  {
   "cell_type": "code",
   "execution_count": 7,
   "metadata": {},
   "outputs": [
    {
     "name": "stdout",
     "output_type": "stream",
     "text": [
      "The square root of 101.0 is approximately 10.049925395190327\n",
      "The square root of 101.0 rounded to 2 decimal points is approximately 10.05\n"
     ]
    }
   ],
   "source": [
    "# Test the function on 101\n",
    "x = 101.0\n",
    "result = sqrt(x)\n",
    "print(f\"The square root of {x} is approximately {result}\")\n",
    "print(f\"The square root of {x} rounded to 2 decimal points is approximately {result:.2f}\")"
   ]
  },
  {
   "cell_type": "code",
   "execution_count": 8,
   "metadata": {},
   "outputs": [
    {
     "name": "stdout",
     "output_type": "stream",
     "text": [
      "The square root of 13 is approximately 3.6058779145461\n",
      "The square root of 13 rounded to 2 decimal points is approximately 3.61\n"
     ]
    }
   ],
   "source": [
    "# Test the function on 13\n",
    "x = 13\n",
    "result = sqrt(x)\n",
    "print(f\"The square root of {x} is approximately {result}\")\n",
    "print(f\"The square root of {x} rounded to 2 decimal points is approximately {result:.2f}\")"
   ]
  },
  {
   "cell_type": "code",
   "execution_count": 10,
   "metadata": {},
   "outputs": [
    {
     "name": "stdout",
     "output_type": "stream",
     "text": [
      "The square root of 24 is approximately 4.908512720156556\n",
      "The square root of 24 rounded to 2 decimal points is approximately 4.91\n"
     ]
    }
   ],
   "source": [
    "# Test the function on 24\n",
    "x = 24\n",
    "result = sqrt(x)\n",
    "print(f\"The square root of {x} is approximately {result}\")\n",
    "print(f\"The square root of {x} rounded to 2 decimal points is approximately {result:.2f}\")"
   ]
  },
  {
   "cell_type": "markdown",
   "metadata": {},
   "source": [
    "### References\n",
    "\n",
    "***\n",
    "\n",
    "Agrawal U. (2022). *Find root of a number using Newton’s method.* Available online a <https://www.geeksforgeeks.org/find-root-of-a-number-using-newtons-method/>\n",
    "\n",
    "Strang G., Herman E. (2016). *Newton’s Method. Calculus Volume 1.* Available online at: <https://math.libretexts.org/Bookshelves/Calculus/Calculus_(OpenStax)/04%3A_Applications_of_Derivatives/4.09%3A_Newtons_Method>\n",
    "\n",
    "***"
   ]
  },
  {
   "cell_type": "markdown",
   "metadata": {},
   "source": []
  }
 ],
 "metadata": {
  "kernelspec": {
   "display_name": "base",
   "language": "python",
   "name": "python3"
  },
  "language_info": {
   "codemirror_mode": {
    "name": "ipython",
    "version": 3
   },
   "file_extension": ".py",
   "mimetype": "text/x-python",
   "name": "python",
   "nbconvert_exporter": "python",
   "pygments_lexer": "ipython3",
   "version": "3.9.13"
  }
 },
 "nbformat": 4,
 "nbformat_minor": 2
}
