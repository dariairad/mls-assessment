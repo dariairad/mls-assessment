{
 "cells": [
  {
   "cell_type": "markdown",
   "metadata": {},
   "source": [
    "# Machine Learning and Statistics: Project\n",
    "\n",
    "### Classification Algorithms on the Iris Flower Dataset\n",
    "\n",
    "Author: Daria Sep"
   ]
  },
  {
   "cell_type": "markdown",
   "metadata": {},
   "source": [
    "### Introduction\n",
    "***\n",
    "The obective of this project is to explore the use of classification algorithms in supervised learning, focusing on the renowned iris flower dataset introduced by Ronald A. Fisher. \n",
    "\n",
    "The notebook will start with an introduction to supervised learning, explaining its core concepts and significance, followed by a detailed look at classification algorithms. It will then demonstrate the implementation of CHNAGE[one common classification algorithm] using the scikit-learn Python library. Emphasis will be placed on enhancing understanding through appropriate plots, mathematical notation, and diagrams, ensuring a blend of theoretical knowledge and practical application."
   ]
  },
  {
   "cell_type": "markdown",
   "metadata": {},
   "source": [
    "### Supervised Learning\n",
    "***"
   ]
  },
  {
   "cell_type": "markdown",
   "metadata": {},
   "source": [
    "#### Overview of Supervised Learning\n",
    "\n",
    "Supervised learning falls within the domain of artificial intelligence and machine learning. It is characterised by the use of labeled datasets to train algorithms in classifying data or making accurate predictions (IBM n.d). The goal of supervised learning is for the algorithm to learn a mapping function that can predict the labels for new, unseen data (Brownlee 2023).\n",
    "\n",
    "In supervised learning, we typically have the following components:\n",
    "- **Features** (also referred to as \"X variables\"): These are the input variables or attributes that describe the data instances. For example, in the Iris flower dataset, the features are sepal length, sepal width, petal length, and petal width.\n",
    "- **Labels** (typically reffered to as \"target variables\" or \"y variables\"): These are the output variables or categories that we want to predict. In the Iris dataset, the labels correspond to the species of iris flowers (e.g., setosa, versicolor, virginica).\n",
    "- **Training Data**: This is the labelled dataset that we use to train the machine's learning model. It consists of input features paired with the correct output labels. (Ali 2022).\n",
    "\n",
    "In supervised learning, the algorithm is taught by example. An operator provides the machine learning algorithm with a well-defined dataset containing specified inputs and corresponding desired outputs. The algorithm's task is to discern the underlying patterns that lead to those inputs and outputs. While the operator knows the correct answers to the problem, the algorithm identifies patterns in data, learns from observations and makes predictions. Subsequently, the algorithm produces predictions, which are then reviewed and corrected by the operator. This iterative process continues until the algorithm achieves a high level of accuracy and performance (Wakefield n.d.).\n",
    "\n",
    "Supervised learning is divided into two main types: **classification** and **regression**. Classification is the task of predicting or identifying which category (or categories) a data point belongs to. In classification output variables are always discrete values meaning they can be placed into clear categories or classes. \n",
    "\n",
    "Unlike classification, which places data into discrete categories, regression problems use input variables to identify continuous, real-value quantities eg. time-series data, sales figures, salaries, scores, heights, weights etc (Hillier 2022).\n",
    "\n",
    "In this project, we will focus on classification, where the goal is to assign each data instance to one of several predefined classes or categories.\n",
    "\n",
    "<figure align=\"center\">\n",
    "    <img src=\"https://media.geeksforgeeks.org/wp-content/cdn-uploads/20190522174744/MachineLearning.png\" width=\"500\" title=\"Types of Machine Learning\"/>\n",
    "    <figcaption> Types of Machine Learning (Geeksforgeeks n.d.)</figcaption>\n",
    "</figure>\n"
   ]
  },
  {
   "cell_type": "markdown",
   "metadata": {},
   "source": [
    "#### Classification Algorithms in Supervised Learning\n",
    "\n",
    "As previously noted, classification is a type of supervised machine learning technique in which the goal is to accurately predict the label for a given input. The process involves training a model on labeled examples to learn patterns between input features and output classes, followed by an evaluation phase using test data, before being used to perform prediction on new, unseen data (Keita 2022).\n",
    "\n",
    "Examples of Classsification Algorithms include:\n",
    "- **Logistic Regression**: Logistic regression algorithm that models the probability of a binary outcome based on input features, using a logistic function to transform linear combinations of inputs into probabilities. It's commonly used for binary classification tasks, such as spam detection or disease diagnosis\n",
    "- **Support Vector Machine (SVM)**: SVM is a powerful classification method that works by finding the hyperplane that best separates different classes in the feature space. It's effective in high-dimensional spaces and versatile enough to handle linear and non-linear relationships. The algorithm is often used in image classification and bioinformatics.\n",
    "- **Random Forest**: Random forest is an ensemble learning method that operates by constructing multiple decision trees during training and outputting the class that is the mode of the classes (classification) or mean prediction (regression) of the individual trees. It is commonly used in stock market analysis and e-commerce.\n",
    "- **Decision Tree**: A decision tree is a flowchart-like structure where each internal node represents a test on an attribute, each branch represents the outcome of the test, and each leaf node represents a class label. It's simple to understand and interpret, but can be prone to overfitting. Decision trees can be used in customer segmentation and quality control.\n",
    "- **K-Nearest Neighbors (KNN)**: KNN is a simple, non-parametric algorithm that classifies a data point based on how its neighbors are classified, typically using a majority vote of its k nearest neighbors. The algortm uses include recommendation systems and real estate valuations.\n",
    "- **Naive Bayes**: Naive Bayes is a probabilistic classifier based on applying Bayes' theorem with the assumption of independence between the features. It is particularly suited for high-dimensional data and is known for its simplicity and speed in handling large datasets. It is often used for text classification.\n",
    "\n",
    "\n"
   ]
  },
  {
   "cell_type": "markdown",
   "metadata": {},
   "source": [
    "### Exploration of a Specific Classification Algorithm [NAME]\n",
    "***"
   ]
  },
  {
   "cell_type": "markdown",
   "metadata": {},
   "source": [
    "### Dataset Exploration and Preprocessing\n",
    "***"
   ]
  },
  {
   "cell_type": "markdown",
   "metadata": {},
   "source": [
    "#### Historical Background \n",
    "\n",
    "The Iris Dataset, aslo known as the Fisher's Iris Dataset, is a multivariate dataset created by Sir Ronald Aymer Fisher in 1936. \n",
    "\n",
    "<figure align=\"center\">\n",
    "    <img src=\"https://upload.wikimedia.org/wikipedia/commons/a/aa/Youngronaldfisher2.JPG\" height=\"300\" title=\"Ronald Aymer Fisher\"/>\n",
    "    <figcaption> R. A. Fisher (Wikipedia 2023)</figcaption>\n",
    "</figure>\n",
    "\n",
    "\n",
    "This dataset is also known as Anderson's Iris dataset, named after Edgar Anderson who collected the data to quantify the variations among Iris flowers of three different classes.\n",
    "\n",
    "Originally, the dataset served as an example of linear discrimination analysis. However, over time, it gained popularity as a benchmark for evaluating statistical classification methods in machine learning. Today, the Iris Dataset is widely used as an introductory dataset for machine learning (Chauhan 2021)."
   ]
  },
  {
   "cell_type": "markdown",
   "metadata": {},
   "source": [
    "#### Dataset Overview\n",
    "\n",
    "The information included in the dataset is as follows:\n",
    "\n",
    "1. Sepal length in cm\n",
    "2. Sepal width in cm\n",
    "3. Petal length in cm\n",
    "4. Petal width in cm\n",
    "5. Class:\n",
    "    - Iris Setosa\n",
    "    - Iris Versicolour\n",
    "    - Iris Virginica\n",
    "\n",
    "<figure align=\"center\">\n",
    "    <img src=\"images/iris.png\" width=\"500\" title=\"Iris Species\"/>\n",
    "    <figcaption> Iris Species (Chauhan 2021)</figcaption>\n",
    "</figure>\n"
   ]
  },
  {
   "cell_type": "markdown",
   "metadata": {},
   "source": [
    "#### Dataset Visualisation"
   ]
  },
  {
   "cell_type": "markdown",
   "metadata": {},
   "source": [
    "##### Imports"
   ]
  },
  {
   "cell_type": "code",
   "execution_count": 2,
   "metadata": {},
   "outputs": [],
   "source": [
    "import numpy as np\n",
    "import matplotlib.pyplot as plt\n",
    "import pandas as pd\n",
    "import seaborn as sns\n",
    "import scipy.stats as ss "
   ]
  },
  {
   "cell_type": "markdown",
   "metadata": {},
   "source": [
    "##### Data"
   ]
  },
  {
   "cell_type": "code",
   "execution_count": 7,
   "metadata": {},
   "outputs": [
    {
     "data": {
      "text/html": [
       "<div>\n",
       "<style scoped>\n",
       "    .dataframe tbody tr th:only-of-type {\n",
       "        vertical-align: middle;\n",
       "    }\n",
       "\n",
       "    .dataframe tbody tr th {\n",
       "        vertical-align: top;\n",
       "    }\n",
       "\n",
       "    .dataframe thead th {\n",
       "        text-align: right;\n",
       "    }\n",
       "</style>\n",
       "<table border=\"1\" class=\"dataframe\">\n",
       "  <thead>\n",
       "    <tr style=\"text-align: right;\">\n",
       "      <th></th>\n",
       "      <th>sepal_length</th>\n",
       "      <th>sepal_width</th>\n",
       "      <th>petal_length</th>\n",
       "      <th>petal_width</th>\n",
       "      <th>class</th>\n",
       "    </tr>\n",
       "  </thead>\n",
       "  <tbody>\n",
       "    <tr>\n",
       "      <th>0</th>\n",
       "      <td>5.1</td>\n",
       "      <td>3.5</td>\n",
       "      <td>1.4</td>\n",
       "      <td>0.2</td>\n",
       "      <td>setosa</td>\n",
       "    </tr>\n",
       "    <tr>\n",
       "      <th>1</th>\n",
       "      <td>4.9</td>\n",
       "      <td>3.0</td>\n",
       "      <td>1.4</td>\n",
       "      <td>0.2</td>\n",
       "      <td>setosa</td>\n",
       "    </tr>\n",
       "    <tr>\n",
       "      <th>2</th>\n",
       "      <td>4.7</td>\n",
       "      <td>3.2</td>\n",
       "      <td>1.3</td>\n",
       "      <td>0.2</td>\n",
       "      <td>setosa</td>\n",
       "    </tr>\n",
       "    <tr>\n",
       "      <th>3</th>\n",
       "      <td>4.6</td>\n",
       "      <td>3.1</td>\n",
       "      <td>1.5</td>\n",
       "      <td>0.2</td>\n",
       "      <td>setosa</td>\n",
       "    </tr>\n",
       "    <tr>\n",
       "      <th>4</th>\n",
       "      <td>5.0</td>\n",
       "      <td>3.6</td>\n",
       "      <td>1.4</td>\n",
       "      <td>0.2</td>\n",
       "      <td>setosa</td>\n",
       "    </tr>\n",
       "  </tbody>\n",
       "</table>\n",
       "</div>"
      ],
      "text/plain": [
       "   sepal_length  sepal_width  petal_length  petal_width   class\n",
       "0           5.1          3.5           1.4          0.2  setosa\n",
       "1           4.9          3.0           1.4          0.2  setosa\n",
       "2           4.7          3.2           1.3          0.2  setosa\n",
       "3           4.6          3.1           1.5          0.2  setosa\n",
       "4           5.0          3.6           1.4          0.2  setosa"
      ]
     },
     "execution_count": 7,
     "metadata": {},
     "output_type": "execute_result"
    }
   ],
   "source": [
    "iris_df = pd.read_csv('csv/iris.csv')\n",
    "\n",
    "iris_df.head()"
   ]
  },
  {
   "cell_type": "markdown",
   "metadata": {},
   "source": [
    "#### Data preprocessing"
   ]
  },
  {
   "cell_type": "markdown",
   "metadata": {},
   "source": [
    "###  Implementation Using scikit-learn\n",
    "***"
   ]
  },
  {
   "cell_type": "markdown",
   "metadata": {},
   "source": [
    "#### Code Implementation"
   ]
  },
  {
   "cell_type": "markdown",
   "metadata": {},
   "source": [
    "#### Explanation of code and parameters"
   ]
  },
  {
   "cell_type": "markdown",
   "metadata": {},
   "source": [
    "### Model Evaluation\n",
    "***"
   ]
  },
  {
   "cell_type": "markdown",
   "metadata": {},
   "source": [
    "### Conclusion\n",
    "***"
   ]
  },
  {
   "cell_type": "markdown",
   "metadata": {},
   "source": [
    "### References\n",
    "***\n",
    "\n",
    "\n",
    "Ali M. (2022). *Supervised Machine Learning.* Available online at <https://www.datacamp.com/blog/supervised-machine-learning>\n",
    "\n",
    "Brownlee J. (2022). *Supervised and Unsupervised Machine Learning Algorithms.* Available online at <https://machinelearningmastery.com/supervised-and-unsupervised-machine-learning-algorithms/>\n",
    "\n",
    "Chauhan G. (2021). *Iris Dataset Project from UCI Machine Learning Repository.* Available online at <https://machinelearninghd.com/iris-dataset-uci-machine-learning-repository-project/>\n",
    "\n",
    "Geeksforgeeks (n.d.). *Top 10 Algorithms every Machine Learning Engineer should know.* Available onlne at <https://www.geeksforgeeks.org/top-10-algorithms-every-machine-learning-engineer-should-know/>\n",
    "\n",
    "Geeksforgeeks (n.d.). *Types of Machine Learning.* Available online at <https://www.geeksforgeeks.org/types-of-machine-learning/>\n",
    "\n",
    "Hillier W. (2022). *What Is the Difference Between Regression and Classification?* Available online at <https://careerfoundry.com/en/blog/data-analytics/regression-vs-classification/>\n",
    "\n",
    "IBM (n.d.). *What is supervised learning?* Available online at <https://www.ibm.com/topics/supervised-learning>\n",
    "\n",
    "Keita Z. (2022). *Classification in Machine Learning: An Introduction.* Available online at <https://www.datacamp.com/blog/classification-machine-learning>\n",
    "\n",
    "---Maglogiannis I. G. (Ed.) (2007). *Emerging Artificial Intelligence Applications in Computer Engineering: Real Word AI Systems with Applications in EHealth, HCI, Information Retrieval and Pervasive Technologies.* Amsterdam: IOS Press.\n",
    "\n",
    "Wakefield K. (n.d.). *A guide to the types of machine learning algorithms and their application.* Available online at <https://www.sas.com/en_ie/insights/articles/analytics/machine-learning-algorithms.html>\n",
    "\n",
    "Wikipedia (2023). *Ronald Fisher.* Available online at <https://en.wikipedia.org/wiki/Ronald_Fisher>"
   ]
  },
  {
   "cell_type": "markdown",
   "metadata": {},
   "source": [
    "***\n",
    "### End"
   ]
  }
 ],
 "metadata": {
  "kernelspec": {
   "display_name": "base",
   "language": "python",
   "name": "python3"
  },
  "language_info": {
   "codemirror_mode": {
    "name": "ipython",
    "version": 3
   },
   "file_extension": ".py",
   "mimetype": "text/x-python",
   "name": "python",
   "nbconvert_exporter": "python",
   "pygments_lexer": "ipython3",
   "version": "3.9.18"
  }
 },
 "nbformat": 4,
 "nbformat_minor": 2
}
